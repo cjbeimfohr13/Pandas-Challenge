{
 "cells": [
  {
   "cell_type": "code",
   "execution_count": 1,
   "metadata": {},
   "outputs": [
    {
     "ename": "NameError",
     "evalue": "name 'pd' is not defined",
     "output_type": "error",
     "traceback": [
      "\u001b[1;31m------------------------------------------------------\u001b[0m",
      "\u001b[1;31mNameError\u001b[0m            Traceback (most recent call last)",
      "\u001b[1;32m<ipython-input-1-9f42639915be>\u001b[0m in \u001b[0;36m<module>\u001b[1;34m\u001b[0m\n\u001b[0;32m      1\u001b[0m \u001b[1;31m# Merge schools and students\u001b[0m\u001b[1;33m\u001b[0m\u001b[1;33m\u001b[0m\u001b[1;33m\u001b[0m\u001b[0m\n\u001b[1;32m----> 2\u001b[1;33m \u001b[0mmerge_df\u001b[0m \u001b[1;33m=\u001b[0m \u001b[0mpd\u001b[0m\u001b[1;33m.\u001b[0m\u001b[0mmerge\u001b[0m\u001b[1;33m(\u001b[0m\u001b[0mschools\u001b[0m\u001b[1;33m,\u001b[0m \u001b[0mstudents\u001b[0m\u001b[1;33m,\u001b[0m \u001b[0mon\u001b[0m\u001b[1;33m=\u001b[0m\u001b[1;34m\"school\"\u001b[0m\u001b[1;33m)\u001b[0m\u001b[1;33m\u001b[0m\u001b[1;33m\u001b[0m\u001b[0m\n\u001b[0m\u001b[0;32m      3\u001b[0m \u001b[0mmerge_df\u001b[0m \u001b[1;33m=\u001b[0m \u001b[0mmerge_df\u001b[0m\u001b[1;33m.\u001b[0m\u001b[0mdrop\u001b[0m\u001b[1;33m(\u001b[0m\u001b[1;33m[\u001b[0m\u001b[1;34m'School ID'\u001b[0m\u001b[1;33m,\u001b[0m \u001b[1;34m'Student ID'\u001b[0m\u001b[1;33m]\u001b[0m\u001b[1;33m,\u001b[0m \u001b[0maxis\u001b[0m\u001b[1;33m=\u001b[0m\u001b[1;36m1\u001b[0m\u001b[1;33m)\u001b[0m\u001b[1;33m\u001b[0m\u001b[1;33m\u001b[0m\u001b[0m\n\u001b[0;32m      4\u001b[0m \u001b[1;33m\u001b[0m\u001b[0m\n\u001b[0;32m      5\u001b[0m \u001b[1;31m# Set school as index, get type, total students, total budget and per student budget\u001b[0m\u001b[1;33m\u001b[0m\u001b[1;33m\u001b[0m\u001b[1;33m\u001b[0m\u001b[0m\n",
      "\u001b[1;31mNameError\u001b[0m: name 'pd' is not defined"
     ]
    }
   ],
   "source": [
    "# Merge schools and students\n",
    "merge_df = pd.merge(schools, students, on=\"school\")\n",
    "merge_df = merge_df.drop(['School ID', 'Student ID'], axis=1)\n",
    "\n",
    "# Set school as index, get type, total students, total budget and per student budget\n",
    "school_index = schools.set_index('school')\n",
    "school_type = school_index['type']\n",
    "school_students = school_index['size']\n",
    "school_budget = school_index['budget']\n",
    "psb = school_budget/school_students\n",
    "\n",
    "# Set school as index and groupby school for merge_df to get average scores by school\n",
    "index = merge_df.set_index('school')\n",
    "grouped = index.groupby(['school'])\n",
    "\n",
    "# Get average math and reading score\n",
    "school_avg_math = grouped['math_score'].mean()\n",
    "school_avg_read = grouped['reading_score'].mean()\n",
    "\n",
    "# Calculate percent that passed math\n",
    "total_stu = grouped['name'].count()\n",
    "grouped_math = pass_math.groupby('school')\n",
    "school_pass_math = grouped_math['name'].count()/total_stu*100\n",
    "\n",
    "# Calculate percent that passed reading\n",
    "grouped_reading = pass_read.groupby('school')\n",
    "school_pass_read = grouped_reading['name'].count()/total_stu*100\n",
    "                             \n",
    "# Calculate overall passing rate\n",
    "overall_pass = (school_pass_math + school_pass_read)/2"
   ]
  },
  {
   "cell_type": "code",
   "execution_count": null,
   "metadata": {},
   "outputs": [],
   "source": []
  }
 ],
 "metadata": {
  "kernelspec": {
   "display_name": "Python 3",
   "language": "python",
   "name": "python3"
  },
  "language_info": {
   "codemirror_mode": {
    "name": "ipython",
    "version": 3
   },
   "file_extension": ".py",
   "mimetype": "text/x-python",
   "name": "python",
   "nbconvert_exporter": "python",
   "pygments_lexer": "ipython3",
   "version": "3.7.6"
  }
 },
 "nbformat": 4,
 "nbformat_minor": 4
}
